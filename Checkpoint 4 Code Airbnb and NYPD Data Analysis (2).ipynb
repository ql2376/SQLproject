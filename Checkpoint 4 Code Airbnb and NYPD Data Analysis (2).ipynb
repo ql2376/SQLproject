{
 "cells": [
  {
   "cell_type": "code",
   "execution_count": 20,
   "metadata": {},
   "outputs": [],
   "source": [
    "import pandas as pd\n",
    "from math import sin, cos, sqrt, atan2, radians\n",
    "import copy"
   ]
  },
  {
   "cell_type": "code",
   "execution_count": 13,
   "metadata": {},
   "outputs": [],
   "source": [
    "def calc_distance(cord_1, cord_2):\n",
    "    # approximate radius of earth in km\n",
    "    R = 6373.0\n",
    "\n",
    "    lat1 = radians(cord_1[0])\n",
    "    lon1 = radians(cord_1[1])\n",
    "    lat2 = radians(cord_2[0])\n",
    "    lon2 = radians(cord_2[1])\n",
    "\n",
    "    dlon = lon2 - lon1\n",
    "    dlat = lat2 - lat1\n",
    "\n",
    "    a = sin(dlat / 2)**2 + cos(lat1) * cos(lat2) * sin(dlon / 2)**2\n",
    "    c = 2 * atan2(sqrt(a), sqrt(1 - a))\n",
    "\n",
    "    distance = R * c\n",
    "    return distance"
   ]
  },
  {
   "cell_type": "code",
   "execution_count": 17,
   "metadata": {},
   "outputs": [],
   "source": [
    "df_ab = pd.read_csv(\"C:\\\\Users\\\\uwmic\\\\OneDrive\\\\Desktop\\\\Alison\\\\Columbia MSAA\\\\5310\\\\project\\\\AB_NYC_2019.csv\")\n",
    "df_crime = pd.read_csv(\"C:\\\\Users\\\\uwmic\\\\OneDrive\\\\Desktop\\\\Alison\\\\Columbia MSAA\\\\5310\\\\project\\\\NYPD_data.csv\")"
   ]
  },
  {
   "cell_type": "code",
   "execution_count": 21,
   "metadata": {},
   "outputs": [
    {
     "data": {
      "text/plain": [
       "(50, 16)"
      ]
     },
     "execution_count": 21,
     "metadata": {},
     "output_type": "execute_result"
    }
   ],
   "source": [
    "df_ab_reduced = copy.deepcopy(df_ab)\n",
    "df_ab_reduced = df_ab_reduced[:50]\n",
    "df_ab_reduced.shape"
   ]
  },
  {
   "cell_type": "code",
   "execution_count": 22,
   "metadata": {},
   "outputs": [
    {
     "name": "stdout",
     "output_type": "stream",
     "text": [
      "0 2.4516129032258065\n",
      "1 2.795698924731183\n",
      "2 2.6560283687943262\n",
      "3 2.541899441340782\n",
      "4 2.7338709677419355\n",
      "5 2.924686192468619\n",
      "6 2.511111111111111\n",
      "7 2.827751196172249\n",
      "8 2.7434210526315788\n",
      "9 2.9441340782122905\n",
      "10 2.6878980891719744\n",
      "11 2.7828054298642533\n",
      "12 3.328125\n",
      "13 2.80168776371308\n",
      "14 2.8862275449101795\n",
      "15 2.6875\n",
      "16 2.7206703910614527\n",
      "17 2.935483870967742\n",
      "18 2.4444444444444446\n",
      "19 2.748062015503876\n",
      "20 2.883720930232558\n",
      "21 2.7944444444444443\n",
      "22 2.8121546961325965\n",
      "23 2.852272727272727\n",
      "24 2.4863636363636363\n",
      "25 2.958904109589041\n",
      "26 3.134831460674157\n",
      "27 2.8095238095238093\n",
      "28 3.2890625\n",
      "29 3.0\n",
      "30 2.442211055276382\n",
      "31 2.5486725663716814\n",
      "32 2.775\n",
      "33 2.436548223350254\n",
      "34 2.5698924731182795\n",
      "35 3.3\n",
      "36 2.480392156862745\n",
      "37 2.6153846153846154\n",
      "38 2.623853211009174\n",
      "39 2.9891891891891893\n",
      "40 2.8454545454545452\n",
      "41 3.2333333333333334\n",
      "42 2.7752808988764044\n",
      "43 3.076923076923077\n",
      "44 2.668918918918919\n",
      "45 2.736\n",
      "46 2.8823529411764706\n",
      "47 2.5649717514124295\n",
      "48 2.5211267605633805\n",
      "49 2.7514450867052025\n"
     ]
    }
   ],
   "source": [
    "crime_category_rating = {'MISDEMEANOR': 1.0,\n",
    "                         'VIOLATION':   2.0,\n",
    "                         'FELONY':      5.0}\n",
    "\n",
    "nearby_distance_km = 2\n",
    "nums_of_crime_nearby = []\n",
    "safety_ratings = []\n",
    "\n",
    "for ab_row in df_ab_reduced.iterrows():\n",
    "    ab_lat = ab_row[1]['latitude']\n",
    "    ab_lon = ab_row[1]['longitude']\n",
    "    ab_cord = (ab_lat, ab_lon)\n",
    "    nearby_crime_acc_ratings = 0\n",
    "    num_of_nearby_crime = 0\n",
    "\n",
    "    for crime_row in df_crime.iterrows():\n",
    "        crime_cat = crime_row[1]['LAW_CAT_CD']\n",
    "        crime_lat = crime_row[1]['Latitude']\n",
    "        crime_lon = crime_row[1]['Longitude']\n",
    "\n",
    "        crime_cord = (crime_lat, crime_lon)\n",
    "\n",
    "        dis = calc_distance(ab_cord, crime_cord)\n",
    "        if dis <= nearby_distance_km:\n",
    "            crime_rating = crime_category_rating[crime_cat]\n",
    "            num_of_nearby_crime += 1\n",
    "            nearby_crime_acc_ratings += crime_rating\n",
    "            \n",
    "    if num_of_nearby_crime > 0:\n",
    "        nearby_crime_avg_rating = nearby_crime_acc_ratings / num_of_nearby_crime\n",
    "    nums_of_crime_nearby.append(num_of_nearby_crime)\n",
    "    safety_ratings.append(nearby_crime_avg_rating)"
   ]
  },
  {
   "cell_type": "code",
   "execution_count": 23,
   "metadata": {},
   "outputs": [],
   "source": [
    "df_ab_reduced['num_of_crime_nearby'] = nums_of_crime_nearby\n",
    "df_ab_reduced['safety_rating'] = safety_ratings"
   ]
  },
  {
   "cell_type": "code",
   "execution_count": 25,
   "metadata": {},
   "outputs": [],
   "source": [
    "df_ab_reduced.to_csv(\"C:\\\\Users\\\\uwmic\\\\OneDrive\\\\Desktop\\\\Alison\\\\Columbia MSAA\\\\5310\\\\project\\\\AB_NYC_2019_Reduced_with_SaftScore.csv\")"
   ]
  }
 ],
 "metadata": {
  "kernelspec": {
   "display_name": "Python 3",
   "language": "python",
   "name": "python3"
  },
  "language_info": {
   "codemirror_mode": {
    "name": "ipython",
    "version": 3
   },
   "file_extension": ".py",
   "mimetype": "text/x-python",
   "name": "python",
   "nbconvert_exporter": "python",
   "pygments_lexer": "ipython3",
   "version": "3.8.3"
  }
 },
 "nbformat": 4,
 "nbformat_minor": 4
}
